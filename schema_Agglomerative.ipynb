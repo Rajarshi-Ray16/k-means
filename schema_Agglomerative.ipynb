{
 "cells": [
  {
   "cell_type": "code",
   "execution_count": 1011,
   "metadata": {},
   "outputs": [],
   "source": [
    "import numpy as np\n",
    "import matplotlib.pyplot as plt\n",
    "import random\n",
    "import pandas as pd"
   ]
  },
  {
   "cell_type": "code",
   "execution_count": 1012,
   "metadata": {},
   "outputs": [],
   "source": [
    "df = pd.read_csv(\"football_data.csv\")\n",
    "df.drop(df.columns[len(df.columns)-1], axis=1, inplace=True)"
   ]
  },
  {
   "cell_type": "code",
   "execution_count": 1013,
   "metadata": {},
   "outputs": [
    {
     "data": {
      "text/plain": [
       "Index(['Unnamed: 0', 'ID', 'Name', 'Age', 'Nationality', 'Overall',\n",
       "       'Potential', 'Club', 'Value', 'Wage', 'Special', 'Preferred Foot',\n",
       "       'International Reputation', 'Weak Foot', 'Skill Moves', 'Work Rate',\n",
       "       'Body Type', 'Real Face', 'Position', 'Jersey Number', 'Joined',\n",
       "       'Loaned From', 'Contract Valid Until', 'Height', 'Weight', 'Crossing',\n",
       "       'Finishing', 'HeadingAccuracy', 'ShortPassing', 'Volleys', 'Dribbling',\n",
       "       'Curve', 'FKAccuracy', 'LongPassing', 'BallControl', 'Acceleration',\n",
       "       'SprintSpeed', 'Agility', 'Reactions', 'Balance', 'ShotPower',\n",
       "       'Jumping', 'Stamina', 'Strength', 'LongShots', 'Aggression',\n",
       "       'Interceptions', 'Positioning', 'Vision', 'Penalties', 'Composure',\n",
       "       'Marking', 'StandingTackle', 'SlidingTackle', 'GKDiving', 'GKHandling',\n",
       "       'GKKicking', 'GKPositioning', 'GKReflexes', 'Release Clause'],\n",
       "      dtype='object')"
      ]
     },
     "execution_count": 1013,
     "metadata": {},
     "output_type": "execute_result"
    }
   ],
   "source": [
    "df.columns"
   ]
  },
  {
   "cell_type": "code",
   "execution_count": 1014,
   "metadata": {},
   "outputs": [],
   "source": [
    "df = df.drop(['Unnamed: 0', 'Contract Valid Until', 'Club', 'Nationality', 'Age', 'Value', 'Special', 'International Reputation', 'Preferred Foot', 'Weak Foot', 'Wage', 'Overall', 'Potential', 'Jersey Number', 'Joined', 'Real Face', 'Body Type', 'Loaned From', 'Height', 'Weight', 'Release Clause'], axis=1)\n",
    "df = df.drop(['GKHandling', 'GKKicking', 'GKPositioning', 'GKReflexes'], axis=1)"
   ]
  },
  {
   "cell_type": "code",
   "execution_count": 1015,
   "metadata": {},
   "outputs": [],
   "source": [
    "df=df.dropna()"
   ]
  },
  {
   "cell_type": "code",
   "execution_count": 1016,
   "metadata": {},
   "outputs": [],
   "source": [
    "df[['Attacking','Defending']]=df['Work Rate'].str.split(\"/ \", expand=True)\n",
    "df = df.drop(['Work Rate'], axis=1)"
   ]
  },
  {
   "cell_type": "code",
   "execution_count": 1017,
   "metadata": {},
   "outputs": [
    {
     "name": "stdout",
     "output_type": "stream",
     "text": [
      "['RF' 'ST' 'LW' 'GK' 'RCM' 'LF' 'RS' 'RCB' 'LCM' 'CB' 'LDM' 'CAM' 'CDM'\n",
      " 'LS' 'LCB' 'RM' 'LAM' 'LM' 'LB' 'RDM' 'RW' 'CM' 'RB' 'RAM' 'CF' 'RWB'\n",
      " 'No' 'LWB']\n"
     ]
    }
   ],
   "source": [
    "print(df['Position'].unique())"
   ]
  },
  {
   "cell_type": "code",
   "execution_count": 1018,
   "metadata": {},
   "outputs": [],
   "source": [
    "df.loc[df[\"Position\"] == \"GK\", \"Position\"] = 0\n",
    "df.loc[df[\"Position\"] == \"CB\", \"Position\"] = 1\n",
    "df.loc[df[\"Position\"] == \"RCB\", \"Position\"] = 2\n",
    "df.loc[df[\"Position\"] == \"LCB\", \"Position\"] = 3\n",
    "df.loc[df[\"Position\"] == \"RB\", \"Position\"] = 4\n",
    "df.loc[df[\"Position\"] == \"LB\", \"Position\"] = 5\n",
    "df.loc[df[\"Position\"] == \"RWB\", \"Position\"] = 6\n",
    "df.loc[df[\"Position\"] == \"LWB\", \"Position\"] = 7\n",
    "df.loc[df[\"Position\"] == \"CDM\", \"Position\"] = 8\n",
    "df.loc[df[\"Position\"] == \"RDM\", \"Position\"] = 9\n",
    "df.loc[df[\"Position\"] == \"LDM\", \"Position\"] = 10\n",
    "df.loc[df[\"Position\"] == \"CM\", \"Position\"] = 11\n",
    "df.loc[df[\"Position\"] == \"RCM\", \"Position\"] = 12\n",
    "df.loc[df[\"Position\"] == \"LCM\", \"Position\"] = 13\n",
    "df.loc[df[\"Position\"] == \"RM\", \"Position\"] = 14\n",
    "df.loc[df[\"Position\"] == \"LM\", \"Position\"] = 15\n",
    "df.loc[df[\"Position\"] == \"CAM\", \"Position\"] = 16\n",
    "df.loc[df[\"Position\"] == \"RAM\", \"Position\"] = 17\n",
    "df.loc[df[\"Position\"] == \"LAM\", \"Position\"] = 18\n",
    "df.loc[df[\"Position\"] == \"CF\", \"Position\"] = 19\n",
    "df.loc[df[\"Position\"] == \"RF\", \"Position\"] = 20\n",
    "df.loc[df[\"Position\"] == \"LF\", \"Position\"] = 21\n",
    "df.loc[df[\"Position\"] == \"RW\", \"Position\"] = 22\n",
    "df.loc[df[\"Position\"] == \"LW\", \"Position\"] = 23\n",
    "df.loc[df[\"Position\"] == \"ST\", \"Position\"] = 24\n",
    "df.loc[df[\"Position\"] == \"RS\", \"Position\"] = 25\n",
    "df.loc[df[\"Position\"] == \"LS\", \"Position\"] = 26\n",
    "\n",
    "df=df[df['Position']!='No']\n",
    "\n",
    "\n",
    "Positions_array=['GK','CB','RCB','LCB','RB','LB','RWB','LWB','CDM','RDM','LDM','CM','RCM','LCM','RM','LM','CAM','RAM','LAM','CF','RF','LF','RW','LW','ST','RS','LS']\n",
    "\n"
   ]
  },
  {
   "cell_type": "code",
   "execution_count": 1019,
   "metadata": {},
   "outputs": [],
   "source": [
    "\n",
    "df.loc[df[\"Defending\"] == \"High\", \"Defending\"] = 3\n",
    "df.loc[df[\"Defending\"] == \"Medium\", \"Defending\"] = 2\n",
    "df.loc[df[\"Defending\"] == \"Low\", \"Defending\"] = 1\n",
    "\n",
    "\n",
    "df.loc[df[\"Attacking\"] == \"High\", \"Attacking\"] = 3\n",
    "df.loc[df[\"Attacking\"] == \"Medium\", \"Attacking\"] = 2\n",
    "df.loc[df[\"Attacking\"] == \"Low\", \"Attacking\"] = 1\n"
   ]
  },
  {
   "cell_type": "code",
   "execution_count": 1020,
   "metadata": {},
   "outputs": [],
   "source": [
    "import pandas as pd\n",
    "import numpy as np\n",
    "import matplotlib.pyplot as plt\n",
    "from sklearn.decomposition import PCA\n",
    "from sklearn.cluster import AgglomerativeClustering\n",
    "from sklearn.preprocessing import StandardScaler, normalize\n",
    "from sklearn.metrics import silhouette_score\n",
    "import scipy.cluster.hierarchy as shc\n",
    "from scipy.cluster.hierarchy import dendrogram, linkage"
   ]
  },
  {
   "cell_type": "code",
   "execution_count": 1021,
   "metadata": {},
   "outputs": [],
   "source": [
    "df_5000=df.head(1000)\n",
    "df=df.head(50)"
   ]
  },
  {
   "cell_type": "code",
   "execution_count": 1022,
   "metadata": {},
   "outputs": [],
   "source": [
    "df_id=df\n",
    "df = df.drop(['ID','Name'], axis=1)\n",
    "df_5000 = df_5000.drop(['ID','Name'], axis=1)"
   ]
  },
  {
   "cell_type": "code",
   "execution_count": 1023,
   "metadata": {},
   "outputs": [],
   "source": [
    "df.reset_index(inplace = True,drop = True)\n",
    "df_id.reset_index(inplace = True,drop = True)\n",
    "df_5000.reset_index(inplace = True,drop = True)"
   ]
  },
  {
   "cell_type": "code",
   "execution_count": 1024,
   "metadata": {},
   "outputs": [
    {
     "name": "stdout",
     "output_type": "stream",
     "text": [
      "#####################################\n",
      "Cluster number 1\n",
      "De Gea GK\n",
      "J. Oblak GK\n",
      "M. ter Stegen GK\n",
      "T. Courtois GK\n",
      "M. Neuer GK\n",
      "H. Lloris GK\n",
      "S. Handanovič GK\n",
      "G. Buffon GK\n",
      "K. Navas GK\n",
      "#####################################\n",
      "Cluster number 2\n",
      "Sergio Ramos RCB\n",
      "D. Godín CB\n",
      "Sergio Busquets CDM\n",
      "G. Chiellini LCB\n",
      "Casemiro CDM\n",
      "M. Hummels LCB\n",
      "Thiago Silva RCB\n",
      "S. Umtiti CB\n",
      "#####################################\n",
      "Cluster number 3\n",
      "Marcelo LB\n",
      "Jordi Alba LB\n",
      "#####################################\n",
      "Cluster number 4\n",
      "L. Messi RF\n",
      "Cristiano Ronaldo ST\n",
      "Neymar Jr LW\n",
      "K. De Bruyne RCM\n",
      "E. Hazard LF\n",
      "L. Modrić RCM\n",
      "L. Suárez RS\n",
      "R. Lewandowski ST\n",
      "David Silva LCM\n",
      "P. Dybala LF\n",
      "H. Kane ST\n",
      "A. Griezmann CAM\n",
      "E. Cavani LS\n",
      "S. Agüero ST\n",
      "K. Mbappé RM\n",
      "M. Salah RM\n",
      "J. Rodríguez LAM\n",
      "L. Insigne LW\n",
      "Isco LW\n",
      "C. Eriksen CAM\n",
      "Coutinho LW\n",
      "P. Aubameyang LM\n",
      "G. Bale ST\n",
      "G. Higuaín LS\n",
      "M. Icardi ST\n",
      "P. Pogba RDM\n",
      "R. Lukaku ST\n",
      "C. Immobile ST\n",
      "#####################################\n",
      "Cluster number 5\n",
      "T. Kroos LCM\n",
      "#####################################\n",
      "Cluster number 6\n",
      "N. Kanté LDM\n",
      "#####################################\n",
      "Cluster number 7\n",
      "K. Koulibaly LCB\n"
     ]
    },
    {
     "data": {
      "image/png": "[encoded data removed]",
      "text/plain": [
       "<Figure size 1800x720 with 1 Axes>"
      ]
     },
     "metadata": {
      "needs_background": "light"
     },
     "output_type": "display_data"
    }
   ],
   "source": [
    "import scipy\n",
    "\n",
    "Z = linkage(df, 'single')\n",
    "\n",
    "labels = scipy.cluster.hierarchy.fcluster(Z, t=60, criterion='distance')\n",
    "\n",
    "#print(labels)\n",
    "\n",
    "maximum=max(labels)\n",
    "\n",
    "\n",
    "for j in range(1,maximum+1):\n",
    "    print(\"#####################################\")\n",
    "    print(\"Cluster number \"+str(j))\n",
    "    for i in range(df.shape[0]):\n",
    "        if(labels[i]==j):\n",
    "            print(df_id['Name'][i]+\" \", end=\"\")\n",
    "            print(Positions_array[df['Position'][i]])\n",
    "\n",
    "    \n",
    "    \n",
    "fig = plt.figure(figsize=(25, 10))\n",
    "\n",
    "dn = dendrogram(Z)\n",
    "\n",
    "plt.show()\n"
   ]
  },
  {
   "cell_type": "code",
   "execution_count": 1025,
   "metadata": {},
   "outputs": [
    {
     "name": "stdout",
     "output_type": "stream",
     "text": [
      "#####################################\n",
      "Cluster number 1\n",
      "L. Messi RF\n",
      "Cristiano Ronaldo ST\n",
      "Neymar Jr LW\n",
      "E. Hazard LF\n",
      "L. Suárez RS\n",
      "R. Lewandowski ST\n",
      "P. Dybala LF\n",
      "H. Kane ST\n",
      "A. Griezmann CAM\n",
      "E. Cavani LS\n",
      "S. Agüero ST\n",
      "K. Mbappé RM\n",
      "M. Salah RM\n",
      "L. Insigne LW\n",
      "P. Aubameyang LM\n",
      "G. Bale ST\n",
      "G. Higuaín LS\n",
      "M. Icardi ST\n",
      "R. Lukaku ST\n",
      "C. Immobile ST\n",
      "#####################################\n",
      "Cluster number 2\n",
      "K. De Bruyne RCM\n",
      "L. Modrić RCM\n",
      "Sergio Ramos RCB\n",
      "T. Kroos LCM\n",
      "David Silva LCM\n",
      "N. Kanté LDM\n",
      "Sergio Busquets CDM\n",
      "Casemiro CDM\n",
      "J. Rodríguez LAM\n",
      "Isco LW\n",
      "C. Eriksen CAM\n",
      "Coutinho LW\n",
      "M. Hummels LCB\n",
      "Marcelo LB\n",
      "Thiago Silva RCB\n",
      "S. Umtiti CB\n",
      "P. Pogba RDM\n",
      "Jordi Alba LB\n",
      "#####################################\n",
      "Cluster number 3\n",
      "De Gea GK\n",
      "J. Oblak GK\n",
      "M. ter Stegen GK\n",
      "T. Courtois GK\n",
      "M. Neuer GK\n",
      "H. Lloris GK\n",
      "S. Handanovič GK\n",
      "G. Buffon GK\n",
      "K. Navas GK\n",
      "#####################################\n",
      "Cluster number 4\n",
      "D. Godín CB\n",
      "G. Chiellini LCB\n",
      "K. Koulibaly LCB\n"
     ]
    },
    {
     "data": {
      "image/png": "[encoded data removed]",
      "text/plain": [
       "<Figure size 1800x720 with 1 Axes>"
      ]
     },
     "metadata": {
      "needs_background": "light"
     },
     "output_type": "display_data"
    }
   ],
   "source": [
    "import scipy\n",
    "\n",
    "Z = linkage(df, 'complete')\n",
    "\n",
    "labels = scipy.cluster.hierarchy.fcluster(Z, t=150, criterion='distance')\n",
    "\n",
    "#print(labels)\n",
    "\n",
    "maximum=max(labels)\n",
    "\n",
    "\n",
    "for j in range(1,maximum+1):\n",
    "    print(\"#####################################\")\n",
    "    print(\"Cluster number \"+str(j))\n",
    "    for i in range(df.shape[0]):\n",
    "        if(labels[i]==j):\n",
    "            print(df_id['Name'][i]+\" \", end=\"\")\n",
    "            print(Positions_array[df['Position'][i]])\n",
    "    \n",
    "    \n",
    "fig = plt.figure(figsize=(25, 10))\n",
    "\n",
    "dn = dendrogram(Z)\n",
    "\n",
    "plt.show()"
   ]
  },
  {
   "cell_type": "code",
   "execution_count": 1026,
   "metadata": {},
   "outputs": [
    {
     "name": "stdout",
     "output_type": "stream",
     "text": [
      "#####################################\n",
      "Cluster number 1\n",
      "De Gea GK\n",
      "J. Oblak GK\n",
      "M. ter Stegen GK\n",
      "T. Courtois GK\n",
      "M. Neuer GK\n",
      "H. Lloris GK\n",
      "S. Handanovič GK\n",
      "G. Buffon GK\n",
      "K. Navas GK\n",
      "#####################################\n",
      "Cluster number 2\n",
      "K. De Bruyne RCM\n",
      "L. Modrić RCM\n",
      "T. Kroos LCM\n",
      "David Silva LCM\n",
      "J. Rodríguez LAM\n",
      "Isco LW\n",
      "C. Eriksen CAM\n",
      "Coutinho LW\n",
      "P. Pogba RDM\n",
      "#####################################\n",
      "Cluster number 3\n",
      "L. Messi RF\n",
      "Cristiano Ronaldo ST\n",
      "Neymar Jr LW\n",
      "E. Hazard LF\n",
      "L. Suárez RS\n",
      "R. Lewandowski ST\n",
      "P. Dybala LF\n",
      "H. Kane ST\n",
      "A. Griezmann CAM\n",
      "E. Cavani LS\n",
      "S. Agüero ST\n",
      "K. Mbappé RM\n",
      "M. Salah RM\n",
      "L. Insigne LW\n",
      "P. Aubameyang LM\n",
      "G. Bale ST\n",
      "G. Higuaín LS\n",
      "M. Icardi ST\n",
      "R. Lukaku ST\n",
      "C. Immobile ST\n",
      "#####################################\n",
      "Cluster number 4\n",
      "Sergio Ramos RCB\n",
      "N. Kanté LDM\n",
      "Sergio Busquets CDM\n",
      "Casemiro CDM\n",
      "M. Hummels LCB\n",
      "Marcelo LB\n",
      "Thiago Silva RCB\n",
      "S. Umtiti CB\n",
      "Jordi Alba LB\n",
      "#####################################\n",
      "Cluster number 5\n",
      "D. Godín CB\n",
      "G. Chiellini LCB\n",
      "K. Koulibaly LCB\n"
     ]
    },
    {
     "data": {
      "image/png": "[encoded data removed]",
      "text/plain": [
       "<Figure size 1800x720 with 1 Axes>"
      ]
     },
     "metadata": {
      "needs_background": "light"
     },
     "output_type": "display_data"
    }
   ],
   "source": [
    "import scipy\n",
    "\n",
    "Z = linkage(df, 'average')\n",
    "\n",
    "labels = scipy.cluster.hierarchy.fcluster(Z, t=80, criterion='distance')\n",
    "\n",
    "#print(labels)\n",
    "\n",
    "maximum=max(labels)\n",
    "\n",
    "\n",
    "for j in range(1,maximum+1):\n",
    "    print(\"#####################################\")\n",
    "    print(\"Cluster number \"+str(j))\n",
    "    for i in range(df.shape[0]):\n",
    "        if(labels[i]==j):\n",
    "            print(df_id['Name'][i]+\" \", end=\"\")\n",
    "            print(Positions_array[df['Position'][i]])\n",
    "    \n",
    "    \n",
    "fig = plt.figure(figsize=(25, 10))\n",
    "\n",
    "dn = dendrogram(Z)\n",
    "\n",
    "plt.show()"
   ]
  },
  {
   "cell_type": "code",
   "execution_count": 1027,
   "metadata": {},
   "outputs": [
    {
     "name": "stdout",
     "output_type": "stream",
     "text": [
      "#####################################\n",
      "Cluster number 1\n",
      "De Gea GK\n",
      "J. Oblak GK\n",
      "M. ter Stegen GK\n",
      "T. Courtois GK\n",
      "M. Neuer GK\n",
      "H. Lloris GK\n",
      "S. Handanovič GK\n",
      "G. Buffon GK\n",
      "K. Navas GK\n",
      "#####################################\n",
      "Cluster number 2\n",
      "L. Messi RF\n",
      "Cristiano Ronaldo ST\n",
      "Neymar Jr LW\n",
      "K. De Bruyne RCM\n",
      "E. Hazard LF\n",
      "L. Modrić RCM\n",
      "L. Suárez RS\n",
      "R. Lewandowski ST\n",
      "T. Kroos LCM\n",
      "David Silva LCM\n",
      "P. Dybala LF\n",
      "H. Kane ST\n",
      "A. Griezmann CAM\n",
      "E. Cavani LS\n",
      "S. Agüero ST\n",
      "K. Mbappé RM\n",
      "M. Salah RM\n",
      "J. Rodríguez LAM\n",
      "L. Insigne LW\n",
      "Isco LW\n",
      "C. Eriksen CAM\n",
      "Coutinho LW\n",
      "P. Aubameyang LM\n",
      "G. Bale ST\n",
      "G. Higuaín LS\n",
      "M. Icardi ST\n",
      "P. Pogba RDM\n",
      "R. Lukaku ST\n",
      "C. Immobile ST\n",
      "#####################################\n",
      "Cluster number 3\n",
      "Sergio Ramos RCB\n",
      "N. Kanté LDM\n",
      "Sergio Busquets CDM\n",
      "Casemiro CDM\n",
      "M. Hummels LCB\n",
      "Marcelo LB\n",
      "Thiago Silva RCB\n",
      "S. Umtiti CB\n",
      "Jordi Alba LB\n",
      "#####################################\n",
      "Cluster number 4\n",
      "D. Godín CB\n",
      "G. Chiellini LCB\n",
      "K. Koulibaly LCB\n"
     ]
    },
    {
     "data": {
      "image/png": "[encoded data removed]",
      "text/plain": [
       "<Figure size 1800x720 with 1 Axes>"
      ]
     },
     "metadata": {
      "needs_background": "light"
     },
     "output_type": "display_data"
    }
   ],
   "source": [
    "import scipy\n",
    "\n",
    "Z = linkage(df, 'centroid')\n",
    "\n",
    "labels = scipy.cluster.hierarchy.fcluster(Z, t=75, criterion='distance')\n",
    "\n",
    "#print(labels)\n",
    "\n",
    "maximum=max(labels)\n",
    "\n",
    "\n",
    "for j in range(1,maximum+1):\n",
    "    print(\"#####################################\")\n",
    "    print(\"Cluster number \"+str(j))\n",
    "    for i in range(df.shape[0]):\n",
    "        if(labels[i]==j):\n",
    "            print(df_id['Name'][i]+\" \", end=\"\")\n",
    "            print(Positions_array[df['Position'][i]])\n",
    "    \n",
    "    \n",
    "fig = plt.figure(figsize=(25, 10))\n",
    "\n",
    "dn = dendrogram(Z)\n",
    "\n",
    "plt.show()"
   ]
  },
  {
   "cell_type": "code",
   "execution_count": 1028,
   "metadata": {},
   "outputs": [
    {
     "data": {
      "image/png": "[encoded data removed]",
      "text/plain": [
       "<Figure size 1800x720 with 1 Axes>"
      ]
     },
     "metadata": {
      "needs_background": "light"
     },
     "output_type": "display_data"
    }
   ],
   "source": [
    "import scipy\n",
    "\n",
    "Z = linkage(df_5000, 'single')\n",
    "\n",
    "#labels = scipy.cluster.hierarchy.fcluster(Z, t=60, criterion='distance')\n",
    "\n",
    "#print(labels)\n",
    "\n",
    "#maximum=max(labels)\n",
    "\n",
    "\n",
    "# for j in range(1,maximum+1):\n",
    "#     print(\"#####################################\")\n",
    "#     print(\"Cluster number \"+str(j))\n",
    "#     for i in range(df.shape[0]):\n",
    "#         if(labels[i]==j):\n",
    "#             print(df_id['Name'][i]+\" \", end=\"\")\n",
    "#             print(Positions_array[df['Position'][i]])\n",
    "\n",
    "    \n",
    "    \n",
    "fig = plt.figure(figsize=(25, 10))\n",
    "\n",
    "dn = dendrogram(Z)\n",
    "\n",
    "plt.show()"
   ]
  },
  {
   "cell_type": "markdown",
   "metadata": {},
   "source": [
    "In-depth analysis of all the cluster patterns provided is in the attached separate analysis document."
   ]
  },
  {
   "cell_type": "code",
   "execution_count": null,
   "metadata": {},
   "outputs": [],
   "source": []
  }
 ],
 "metadata": {
  "kernelspec": {
   "display_name": "Python 3 (ipykernel)",
   "language": "python",
   "name": "python3"
  },
  "language_info": {
   "codemirror_mode": {
    "name": "ipython",
    "version": 3
   },
   "file_extension": ".py",
   "mimetype": "text/x-python",
   "name": "python",
   "nbconvert_exporter": "python",
   "pygments_lexer": "ipython3",
   "version": "3.8.10"
  }
 },
 "nbformat": 4,
 "nbformat_minor": 4
}
